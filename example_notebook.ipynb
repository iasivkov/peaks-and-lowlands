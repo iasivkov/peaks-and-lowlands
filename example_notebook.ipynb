{
 "cells": [
  {
   "cell_type": "markdown",
   "metadata": {},
   "source": [
    "# Example Nootebook"
   ]
  },
  {
   "cell_type": "markdown",
   "metadata": {},
   "source": [
    "## Preliminaries"
   ]
  },
  {
   "cell_type": "markdown",
   "metadata": {},
   "source": [
    "At first we imports numpy for generate distributions and class Landshaft containing general logic of peaks-and-lowlands module."
   ]
  },
  {
   "cell_type": "code",
   "execution_count": 1,
   "metadata": {},
   "outputs": [],
   "source": [
    "import numpy as np\n",
    "from src import Landshaft"
   ]
  },
  {
   "cell_type": "markdown",
   "metadata": {},
   "source": [
    "Secondly, we generate five samples with a power of $10^4$ from different normal distributions as an example."
   ]
  },
  {
   "cell_type": "code",
   "execution_count": 2,
   "metadata": {},
   "outputs": [],
   "source": [
    "np.random.seed(12)\n",
    "\n",
    "\n",
    "mean, sigma, n = [0, 8, 3, 14, 18], [1, 1.5, 0.5, 2, 0.7], 10000\n",
    "x1 = np.random.normal(mean[0], sigma[0], n)\n",
    "x2 = np.random.normal(mean[1], sigma[1], n)\n",
    "x3 = np.random.normal(mean[2], sigma[2], n)\n",
    "x4 = np.random.normal(mean[3], sigma[3], n)\n",
    "x5 = np.random.normal(mean[4], sigma[4], n)\n",
    "x = np.concatenate([x1,x2,x3,x4,x5])   \n",
    "x=x\n"
   ]
  },
  {
   "cell_type": "markdown",
   "metadata": {},
   "source": [
    "## Landshaft evaluating"
   ]
  },
  {
   "cell_type": "markdown",
   "metadata": {},
   "source": [
    "Now create ladshaft object, define number of quantiles using for distribution density function estimation as 100. Threshold for counting area as lowland sets 0.33"
   ]
  },
  {
   "cell_type": "code",
   "execution_count": 3,
   "metadata": {},
   "outputs": [],
   "source": [
    "\n",
    "landshaft = Landshaft(x=x,q_num=100, threshold=0.33)\n"
   ]
  },
  {
   "cell_type": "markdown",
   "metadata": {},
   "source": [
    "It's time to run main algorithm calculations. We should to call the `build_landshaft` function to do this.\n",
    "After it is executed, all the required values will be stored in landshaft attributes and we can visualize results.\n"
   ]
  },
  {
   "cell_type": "code",
   "execution_count": 4,
   "metadata": {},
   "outputs": [
    {
     "ename": "TypeError",
     "evalue": "'builtin_function_or_method' object does not support item assignment",
     "output_type": "error",
     "traceback": [
      "\u001b[1;31m---------------------------------------------------------------------------\u001b[0m",
      "\u001b[1;31mTypeError\u001b[0m                                 Traceback (most recent call last)",
      "Cell \u001b[1;32mIn[4], line 1\u001b[0m\n\u001b[1;32m----> 1\u001b[0m \u001b[43mlandshaft\u001b[49m\u001b[38;5;241;43m.\u001b[39;49m\u001b[43mbuild_landshaft\u001b[49m\u001b[43m(\u001b[49m\u001b[43m)\u001b[49m\n\u001b[0;32m      2\u001b[0m landshaft\u001b[38;5;241m.\u001b[39mplot_ponds_and_peaks()\n",
      "File \u001b[1;32mc:\\Users\\Ivan\\Documents\\Peaks-and-lowlands\\src\\landshaft.py:190\u001b[0m, in \u001b[0;36mLandshaft.build_landshaft\u001b[1;34m(self)\u001b[0m\n\u001b[0;32m    171\u001b[0m \u001b[38;5;28;01mdef\u001b[39;00m \u001b[38;5;21mbuild_landshaft\u001b[39m(\u001b[38;5;28mself\u001b[39m) \u001b[38;5;241m-\u001b[39m\u001b[38;5;241m>\u001b[39m \u001b[38;5;28;01mNone\u001b[39;00m:\n\u001b[0;32m    172\u001b[0m \u001b[38;5;250m    \u001b[39m\u001b[38;5;124;03m\"\"\"\u001b[39;00m\n\u001b[0;32m    173\u001b[0m \u001b[38;5;124;03m    The main function of class providing general logic of algorithm.\u001b[39;00m\n\u001b[0;32m    174\u001b[0m \u001b[38;5;124;03m    Constructs the landshaft by calculating quantiles, building the ground,\u001b[39;00m\n\u001b[1;32m   (...)\u001b[0m\n\u001b[0;32m    188\u001b[0m \u001b[38;5;124;03m    None\u001b[39;00m\n\u001b[0;32m    189\u001b[0m \u001b[38;5;124;03m    \"\"\"\u001b[39;00m\n\u001b[1;32m--> 190\u001b[0m     \u001b[38;5;28;43mself\u001b[39;49m\u001b[38;5;241;43m.\u001b[39;49m\u001b[43mget_quantiles\u001b[49m\u001b[43m(\u001b[49m\u001b[43m)\u001b[49m\n\u001b[0;32m    191\u001b[0m     \u001b[38;5;28mself\u001b[39m\u001b[38;5;241m.\u001b[39mget_ground()\n\u001b[0;32m    192\u001b[0m     \u001b[38;5;28mself\u001b[39m\u001b[38;5;241m.\u001b[39mget_extremums()\n",
      "File \u001b[1;32mc:\\Users\\Ivan\\Documents\\Peaks-and-lowlands\\src\\landshaft.py:68\u001b[0m, in \u001b[0;36mLandshaft.get_quantiles\u001b[1;34m(self)\u001b[0m\n\u001b[0;32m     65\u001b[0m step \u001b[38;5;241m=\u001b[39m \u001b[38;5;241m1\u001b[39m \u001b[38;5;241m/\u001b[39m \u001b[38;5;28mself\u001b[39m\u001b[38;5;241m.\u001b[39mq_num\n\u001b[0;32m     67\u001b[0m quantiles \u001b[38;5;241m=\u001b[39m np\u001b[38;5;241m.\u001b[39marange(\u001b[38;5;241m0.0\u001b[39m, \u001b[38;5;241m1.0\u001b[39m \u001b[38;5;241m+\u001b[39m step\u001b[38;5;241m/\u001b[39m\u001b[38;5;241m10\u001b[39m, step)\u001b[38;5;241m.\u001b[39mtolist()\n\u001b[1;32m---> 68\u001b[0m \u001b[38;5;28;43mglobals\u001b[39;49m\u001b[43m[\u001b[49m\u001b[38;5;124;43m'\u001b[39;49m\u001b[38;5;124;43mhd_v\u001b[39;49m\u001b[38;5;124;43m'\u001b[39;49m\u001b[43m]\u001b[49m \u001b[38;5;241m=\u001b[39m np\u001b[38;5;241m.\u001b[39mvectorize(\u001b[38;5;28;01mlambda\u001b[39;00m q: Landshaft\u001b[38;5;241m.\u001b[39m_hd(\u001b[38;5;28mself\u001b[39m\u001b[38;5;241m.\u001b[39mx, q, eps\u001b[38;5;241m=\u001b[39mstep\u001b[38;5;241m/\u001b[39m\u001b[38;5;241m10\u001b[39m))\n\u001b[0;32m     69\u001b[0m \u001b[38;5;66;03m# hd_v = lambda q: Landshaft._hd(self.x, q, eps=step/10)\u001b[39;00m\n\u001b[0;32m     70\u001b[0m \u001b[38;5;28;01mwith\u001b[39;00m Pool(processes\u001b[38;5;241m=\u001b[39mcpu_count()) \u001b[38;5;28;01mas\u001b[39;00m pool:\n",
      "\u001b[1;31mTypeError\u001b[0m: 'builtin_function_or_method' object does not support item assignment"
     ]
    }
   ],
   "source": [
    "landshaft.build_landshaft()\n",
    "landshaft.plot_ponds_and_peaks()"
   ]
  },
  {
   "cell_type": "markdown",
   "metadata": {},
   "source": [
    "As we can see on graph above, our algorithm detect three deep ponds over lowlands (saturated blue area) with it's minimums (red stars), that separate four modes (gren stars). Also it is remains six unmerged ponds with shallow water (light-blue). "
   ]
  },
  {
   "cell_type": "markdown",
   "metadata": {},
   "source": [
    "## Modes retrieving"
   ]
  },
  {
   "cell_type": "markdown",
   "metadata": {},
   "source": [
    "Modes in form of the ExtremumArray class object are laid in attribute `modes` of `landshaft` object. This class wrapping iterable of Extremum class objects. Each of later contain a Bin class object with $x$-coordinate of left border, height, and width of bin from density distribution function estimation (colored in light-brown on graph above). \n",
    "\n",
    "The ExtremumArray class provides us with instance functions for obtaining the left border coordinates, widths, or heights of all the extremum bins it contains in the form of a numpy ndarray at once."
   ]
  },
  {
   "cell_type": "code",
   "execution_count": null,
   "metadata": {},
   "outputs": [
    {
     "name": "stdout",
     "output_type": "stream",
     "text": [
      "The x coords of modes are: [-0.21228732  3.03618555  8.46526623 18.08653465]\n",
      "The y coords of modes are: [0.08317886 0.16799954 0.05521286 0.13175371]\n"
     ]
    }
   ],
   "source": [
    "print(f\"The x coords of modes are: {landshaft.modes.get_bins_start()\n",
    "                                + landshaft.modes.get_bins_width()/2}\")\n",
    "print(f\"The y coords of modes are: {landshaft.modes.get_bins_height()}\")"
   ]
  },
  {
   "cell_type": "code",
   "execution_count": null,
   "metadata": {},
   "outputs": [
    {
     "name": "stdout",
     "output_type": "stream",
     "text": [
      "The x coords of minimums are: [ 1.80065175  4.93046631 10.81051343]\n",
      "The y coords of minimums are: [0.0260816  0.00809472 0.02159758]\n"
     ]
    }
   ],
   "source": [
    "print(f\"The x coords of minimums are: {landshaft.min_between_modes.get_bins_start() \n",
    "                                    + landshaft.min_between_modes.get_bins_width()/2}\")\n",
    "print(f\"The y coords of minimums are: {landshaft.min_between_modes.get_bins_height()}\")"
   ]
  },
  {
   "cell_type": "code",
   "execution_count": null,
   "metadata": {},
   "outputs": [],
   "source": []
  }
 ],
 "metadata": {
  "kernelspec": {
   "display_name": "venv",
   "language": "python",
   "name": "python3"
  },
  "language_info": {
   "codemirror_mode": {
    "name": "ipython",
    "version": 3
   },
   "file_extension": ".py",
   "mimetype": "text/x-python",
   "name": "python",
   "nbconvert_exporter": "python",
   "pygments_lexer": "ipython3",
   "version": "3.12.2"
  }
 },
 "nbformat": 4,
 "nbformat_minor": 2
}
