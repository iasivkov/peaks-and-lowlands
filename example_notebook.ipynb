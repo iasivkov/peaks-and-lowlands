{
 "cells": [
  {
   "cell_type": "markdown",
   "metadata": {},
   "source": [
    "# Example Nootebook"
   ]
  },
  {
   "cell_type": "markdown",
   "metadata": {},
   "source": [
    "## Preliminaries"
   ]
  },
  {
   "cell_type": "markdown",
   "metadata": {},
   "source": [
    "At first we imports numpy for generate distributions and class Landshaft containing general logic of peaks-and-lowlands module."
   ]
  },
  {
   "cell_type": "code",
   "execution_count": 7,
   "metadata": {},
   "outputs": [],
   "source": [
    "import numpy as np\n",
    "from src import Landshaft"
   ]
  },
  {
   "cell_type": "markdown",
   "metadata": {},
   "source": [
    "Secondly, we generate five samples with a power of $10^4$ from different normal distributions as an example."
   ]
  },
  {
   "cell_type": "code",
   "execution_count": 8,
   "metadata": {},
   "outputs": [],
   "source": [
    "np.random.seed(12)\n",
    "\n",
    "\n",
    "mean, sigma, n = [0, 8, 3, 14, 18], [1, 1.5, 0.5, 2, 0.7], 10000\n",
    "x1 = np.random.normal(mean[0], sigma[0], n)\n",
    "x2 = np.random.normal(mean[1], sigma[1], n)\n",
    "x3 = np.random.normal(mean[2], sigma[2], n)\n",
    "x4 = np.random.normal(mean[3], sigma[3], n)\n",
    "x5 = np.random.normal(mean[4], sigma[4], n)\n",
    "x = np.concatenate([x1,x2,x3,x4,x5])   \n",
    "x=x\n"
   ]
  },
  {
   "cell_type": "markdown",
   "metadata": {},
   "source": [
    "## Landshaft evaluating"
   ]
  },
  {
   "cell_type": "markdown",
   "metadata": {},
   "source": [
    "Now create ladshaft object, define number of quantiles using for distribution density function estimation as 100. Threshold for counting area as lowland sets 0.33"
   ]
  },
  {
   "cell_type": "code",
   "execution_count": 9,
   "metadata": {},
   "outputs": [],
   "source": [
    "\n",
    "landshaft = Landshaft(x=x,q_num=100, threshold=0.33)\n"
   ]
  },
  {
   "cell_type": "markdown",
   "metadata": {},
   "source": [
    "It's time to run main algorithm calculations. We should to call the `build_landshaft` function to do this.\n",
    "After it is executed, all the required values will be stored in landshaft attributes and we can visualize results.\n"
   ]
  },
  {
   "cell_type": "code",
   "execution_count": 10,
   "metadata": {},
   "outputs": [
    {
     "data": {
      "image/png": "[encoded data removed]",
      "text/plain": [
       "<Figure size 640x480 with 1 Axes>"
      ]
     },
     "metadata": {},
     "output_type": "display_data"
    }
   ],
   "source": [
    "landshaft.build_landshaft()\n",
    "landshaft.plot_ponds_and_peaks()"
   ]
  },
  {
   "cell_type": "markdown",
   "metadata": {},
   "source": [
    "As we can see on graph above, our algorithm detect three deep ponds over lowlands (saturated blue area) with it's minimums (red stars), that separate four modes (gren stars). Also it is remains six unmerged ponds with shallow water (light-blue). "
   ]
  },
  {
   "cell_type": "markdown",
   "metadata": {},
   "source": [
    "## Modes retrieving"
   ]
  },
  {
   "cell_type": "markdown",
   "metadata": {},
   "source": [
    "Modes in form of the ExtremumArray class object are laid in attribute `modes` of `landshaft` object. This class wrapping iterable of Extremum class objects. Each of later contain a Bin class object with $x$-coordinate of left border, height, and width of bin from density distribution function estimation (colored in light-brown on graph above). \n",
    "\n",
    "The ExtremumArray class provides us with instance functions for obtaining the left border coordinates, widths, or heights of all the extremum bins it contains in the form of a numpy ndarray at once."
   ]
  },
  {
   "cell_type": "code",
   "execution_count": 11,
   "metadata": {},
   "outputs": [
    {
     "name": "stdout",
     "output_type": "stream",
     "text": [
      "The x coords of modes are: [-0.21228732  3.03618555  8.46526623 18.08653465]\n",
      "The y coords of modes are: [0.08317886 0.16799954 0.05521286 0.13175371]\n"
     ]
    }
   ],
   "source": [
    "print(f\"The x coords of modes are: {landshaft.modes.get_bins_start()\n",
    "                                + landshaft.modes.get_bins_width()/2}\")\n",
    "print(f\"The y coords of modes are: {landshaft.modes.get_bins_height()}\")"
   ]
  },
  {
   "cell_type": "code",
   "execution_count": 12,
   "metadata": {},
   "outputs": [
    {
     "name": "stdout",
     "output_type": "stream",
     "text": [
      "The x coords of minimums are: [ 1.80065175  4.93046631 10.81051343]\n",
      "The y coords of minimums are: [0.0260816  0.00809472 0.02159758]\n"
     ]
    }
   ],
   "source": [
    "print(f\"The x coords of minimums are: {landshaft.min_between_modes.get_bins_start() \n",
    "                                    + landshaft.min_between_modes.get_bins_width()/2}\")\n",
    "print(f\"The y coords of minimums are: {landshaft.min_between_modes.get_bins_height()}\")"
   ]
  },
  {
   "cell_type": "code",
   "execution_count": null,
   "metadata": {},
   "outputs": [],
   "source": []
  }
 ],
 "metadata": {
  "kernelspec": {
   "display_name": "venv",
   "language": "python",
   "name": "python3"
  },
  "language_info": {
   "codemirror_mode": {
    "name": "ipython",
    "version": 3
   },
   "file_extension": ".py",
   "mimetype": "text/x-python",
   "name": "python",
   "nbconvert_exporter": "python",
   "pygments_lexer": "ipython3",
   "version": "3.12.2"
  }
 },
 "nbformat": 4,
 "nbformat_minor": 2
}
